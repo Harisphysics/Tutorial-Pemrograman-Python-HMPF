{
 "cells": [
  {
   "cell_type": "markdown",
   "metadata": {},
   "source": [
    "## Metode Trapesium\n",
    "\n",
    "Definisi sebuah integral dari suatu fungsi adalah luasan yang terdapat dibawah fungsi dalam batas tertentu.\n",
    "Sehingga untuk menghitung luasan tersebut dapat didekati dengan menggunakan luasan trapesium\n",
    "\n",
    "Sebagai contoh:\n",
    "Hitunglah\n",
    "\n",
    "\\begin{equation}\n",
    "\\int_{0}^{1} e^{-x^2} dx\n",
    "\\end{equation}"
   ]
  },
  {
   "cell_type": "code",
   "execution_count": 8,
   "metadata": {},
   "outputs": [
    {
     "data": {
      "image/png": "[encoded data removed]",
      "text/plain": [
       "<Figure size 432x288 with 1 Axes>"
      ]
     },
     "metadata": {
      "needs_background": "light"
     },
     "output_type": "display_data"
    }
   ],
   "source": [
    "import numpy as np\n",
    "import matplotlib.pyplot as plt\n",
    "\n",
    "f = lambda x: np.exp(-x**2)\n",
    "x = np.linspace(-0.5,1.5,100)\n",
    "y = f(x)\n",
    "plt.plot(x,y)\n",
    "\n",
    "x0 = 0\n",
    "x1 = 1\n",
    "y0 = f(x0); y1 = f(x1);\n",
    "plt.fill_between([x0,x1],[y0,y1])\n",
    "\n",
    "plt.xlim([-0.5,1.5]); plt.ylim([0,1.5]);\n",
    "plt.show()"
   ]
  },
  {
   "cell_type": "code",
   "execution_count": 7,
   "metadata": {},
   "outputs": [
    {
     "name": "stdout",
     "output_type": "stream",
     "text": [
      "Trapezoid area: 0.6839397205857212\n"
     ]
    }
   ],
   "source": [
    "A = 0.5*(x1 - x0)*(y1 + y0)\n",
    "print(\"Trapezoid area:\",A)"
   ]
  },
  {
   "cell_type": "code",
   "execution_count": 36,
   "metadata": {},
   "outputs": [
    {
     "data": {
      "image/png": "[encoded data removed]",
      "text/plain": [
       "<Figure size 432x288 with 1 Axes>"
      ]
     },
     "metadata": {
      "needs_background": "light"
     },
     "output_type": "display_data"
    }
   ],
   "source": [
    "f = lambda x: np.exp(-x**2)\n",
    "x = np.linspace(-0.5,1.5,100)\n",
    "y = f(x)\n",
    "plt.plot(x,y)\n",
    "\n",
    "x0 = 0\n",
    "x1 = 1\n",
    "N = 6\n",
    "h = (x1 - x0)/N\n",
    "\n",
    "for i in range(N):\n",
    "    x_next = x0 + i*h\n",
    "    xs = [x0,x0,x_next,x_next]\n",
    "    ys = [0,f(x0),f(x_next),0]\n",
    "    plt.fill(xs,ys,'r',edgecolor='r')\n",
    "    x0 = x_next\n",
    " \n",
    "\n",
    "plt.xlim([-0.5,1.5])\n",
    "plt.ylim([0,1.5]);\n",
    "plt.show()"
   ]
  },
  {
   "cell_type": "markdown",
   "metadata": {},
   "source": [
    "### Hitunglah integral dari fungsi berikut\n",
    "\n",
    "\\begin{equation}\n",
    "\\int_{0}^{5}\\frac{1}{1 + x^2} dx\n",
    "\\end{equation}\n",
    "\n",
    "Secara analitik persamaan ini akan menghasilkan \n",
    "\\begin{equation}\n",
    "\\arctan{x}\n",
    "\\end{equation}"
   ]
  },
  {
   "cell_type": "code",
   "execution_count": 21,
   "metadata": {},
   "outputs": [
    {
     "name": "stdout",
     "output_type": "stream",
     "text": [
      "1.3724338021431133\n",
      "1.373400766945016\n"
     ]
    }
   ],
   "source": [
    "import numpy as np\n",
    "\n",
    "f = lambda x : 1/(1+x**2)\n",
    "a = 0\n",
    "b = 5\n",
    "N = 200\n",
    "h = (b-a)/N\n",
    "\n",
    "x0 = a\n",
    "sum = 0\n",
    "for i in range(1, N):\n",
    "    x_next = a + i*h\n",
    "    sum += (f(x0) + f(x_next))*h/2\n",
    "    x0 = x_next\n",
    "    \n",
    "print(sum)\n",
    "print(np.arctan(5))"
   ]
  },
  {
   "cell_type": "code",
   "execution_count": 31,
   "metadata": {},
   "outputs": [
    {
     "data": {
      "text/plain": [
       "1.373399397242914"
      ]
     },
     "execution_count": 31,
     "metadata": {},
     "output_type": "execute_result"
    }
   ],
   "source": [
    "a = 0\n",
    "b = 5\n",
    "N = 150\n",
    "x = np.linspace(a,b,N+1)\n",
    "y = f(x)\n",
    "y_left = y[1:]\n",
    "y_right = y[:-1]\n",
    "\n",
    "dx = x[1]-x[0]\n",
    "Area = dx/2 * np.sum(y_left + y_right)\n",
    "Area"
   ]
  },
  {
   "cell_type": "markdown",
   "metadata": {},
   "source": [
    "#### Pertanyaan:\n",
    "#### Buktikan integral dari\n",
    "\\begin{equation}\n",
    "\\int_{1}^{2} \\frac{1}{x} dx = ln(2)\n",
    "\\end{equation}\n"
   ]
  },
  {
   "cell_type": "markdown",
   "metadata": {},
   "source": [
    "## Metode Monte Carlo\n",
    "\n",
    "Hitunglah\n",
    "\n",
    "\\begin{equation}\n",
    "\\int_{0}^{1} x^2 dx\n",
    "\\end{equation}"
   ]
  },
  {
   "cell_type": "code",
   "execution_count": 51,
   "metadata": {},
   "outputs": [
    {
     "name": "stdout",
     "output_type": "stream",
     "text": [
      "0.33372206669991145\n",
      "0.0009451253277675899\n"
     ]
    }
   ],
   "source": [
    "n = 100000\n",
    "s0 = 0\n",
    "ds = 0\n",
    "for i in range(n):\n",
    "    x = np.random.rand()\n",
    "    f = x*x\n",
    "    s0 += f\n",
    "    ds += f*f\n",
    "\n",
    "s0 /= n\n",
    "ds /= n\n",
    "print(s0)\n",
    "print(np.sqrt(abs(ds - s0**2)/n))"
   ]
  },
  {
   "cell_type": "code",
   "execution_count": 85,
   "metadata": {},
   "outputs": [
    {
     "name": "stdout",
     "output_type": "stream",
     "text": [
      "2.667819616882819\n",
      "0.0011928890442911605\n"
     ]
    }
   ],
   "source": [
    "n = 1000000\n",
    "s0 = 0\n",
    "ds = 0\n",
    "for i in range(n):\n",
    "    x = np.random.uniform()*2\n",
    "    f = x*x\n",
    "    s0 += f\n",
    "    ds += f*f\n",
    "\n",
    "s0 /= n\n",
    "ds /= n\n",
    "print(s0*2)\n",
    "print(np.sqrt(abs(ds - s0**2)/n))"
   ]
  },
  {
   "cell_type": "markdown",
   "metadata": {},
   "source": [
    "### Hitunglah nilai integral dari\n",
    "\n",
    "\\begin{equation}\n",
    "\\int_{0}^{5} \\frac{e^{-x}}{1+(x - 1)^2} dx\n",
    "\\end{equation}"
   ]
  },
  {
   "cell_type": "code",
   "execution_count": 79,
   "metadata": {},
   "outputs": [],
   "source": [
    "def get_rand_number(min_value, max_value):\n",
    "    range = max_value - min_value\n",
    "    choice = np.random.uniform(0,1)\n",
    "    return min_value + range*choice"
   ]
  },
  {
   "cell_type": "code",
   "execution_count": 83,
   "metadata": {},
   "outputs": [],
   "source": [
    "def f_of_x(x):\n",
    "    return (np.exp(-1*x))/(1+(x-1)**2)"
   ]
  },
  {
   "cell_type": "code",
   "execution_count": 84,
   "metadata": {},
   "outputs": [
    {
     "data": {
      "text/plain": [
       "0.6975071359611145"
      ]
     },
     "execution_count": 84,
     "metadata": {},
     "output_type": "execute_result"
    }
   ],
   "source": [
    "def crude_monte_carlo(num_samples=5000):\n",
    "    lower_bound = 0\n",
    "    upper_bound = 5\n",
    "    \n",
    "    sum_of_samples = 0\n",
    "    for i in range(num_samples):\n",
    "        x = get_rand_number(lower_bound, upper_bound)\n",
    "        sum_of_samples += f_of_x(x)\n",
    "    \n",
    "    return (upper_bound - lower_bound) * float(sum_of_samples/num_samples)"
   ]
  },
  {
   "cell_type": "code",
   "execution_count": 86,
   "metadata": {},
   "outputs": [],
   "source": [
    "def get_crude_MC_variance(num_samples):\n",
    "    # get the average of squares\n",
    "    running_total = 0\n",
    "    for i in range(num_samples):\n",
    "        x = get_rand_number(0, int_max)\n",
    "        running_total += f_of_x(x)**2\n",
    "    sum_of_sqs = running_total*int_max / num_samples\n",
    "    \n",
    "    # get square of average\n",
    "    running_total = 0\n",
    "    for i in range(num_samples):\n",
    "        x = get_rand_number(0, int_max)\n",
    "        running_total = f_of_x(x)\n",
    "    sq_ave = (int_max*running_total/num_samples)**2\n",
    "    \n",
    "    return sum_of_sqs - sq_ave"
   ]
  },
  {
   "cell_type": "code",
   "execution_count": 93,
   "metadata": {},
   "outputs": [
    {
     "name": "stdout",
     "output_type": "stream",
     "text": [
      "0.7093006602175246 0.2679670124523033\n"
     ]
    }
   ],
   "source": [
    "int_max = 5\n",
    "hasil = crude_monte_carlo(num_samples=8000)\n",
    "variance = get_crude_MC_variance(num_samples = 8000)\n",
    "\n",
    "print(hasil, variance)"
   ]
  }
 ],
 "metadata": {
  "kernelspec": {
   "display_name": "Python 3",
   "language": "python",
   "name": "python3"
  },
  "language_info": {
   "codemirror_mode": {
    "name": "ipython",
    "version": 3
   },
   "file_extension": ".py",
   "mimetype": "text/x-python",
   "name": "python",
   "nbconvert_exporter": "python",
   "pygments_lexer": "ipython3",
   "version": "3.7.3"
  }
 },
 "nbformat": 4,
 "nbformat_minor": 2
}
