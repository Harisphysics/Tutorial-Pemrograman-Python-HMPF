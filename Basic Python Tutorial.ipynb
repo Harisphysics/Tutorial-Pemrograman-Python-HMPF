{
 "cells": [
  {
   "cell_type": "markdown",
   "metadata": {},
   "source": [
    "# Python Installation\n",
    "\n",
    "Untuk mendownload python dapat dilakukan melalui link https://www.anaconda.com/distribution/. Silahkan pilih python yang sesuai dengan sistem operasi yang digunakan pada PC yang akan diinstal python.\n",
    "\n",
    "Setelah selesai melakukan download, buka file yang didownload dan instal anaconda.\n",
    "Dengan menginstal anaconda maka berbagai modul yang dimiliki pada python telah otomatis terinstal.\n",
    "Text editor yang sering dipakai seperti spyder atau jupyter notebook juga telah terinstal pada PC."
   ]
  },
  {
   "cell_type": "markdown",
   "metadata": {},
   "source": [
    "## 1. Get Started\n",
    "### a. 'Hello World'"
   ]
  },
  {
   "cell_type": "code",
   "execution_count": 1,
   "metadata": {},
   "outputs": [
    {
     "name": "stdout",
     "output_type": "stream",
     "text": [
      "Hello World\n",
      "My name is Haris Suhendar\n",
      "I am graduate student of physics in Gadjah Mada University\n",
      "I really interested to study python programming\n"
     ]
    }
   ],
   "source": [
    "print('Hello World')\n",
    "print('My name is Haris Suhendar')\n",
    "print('I am graduate student of physics in Gadjah Mada University')\n",
    "print('I really interested to study python programming')"
   ]
  },
  {
   "cell_type": "markdown",
   "metadata": {},
   "source": [
    "### b. Tipe Data\n",
    "\n",
    "Tipe data menentukan jenis operasi yang dapat diberikan pada data tersebut.\n",
    "Pada python terdapat beberapa jenis data sebagai berikut\n",
    "\n",
    "#### Numerik\n",
    "- Integer -> bilangan positif atau negatif tanpa bagian desimal\n",
    "- Float -> Seluruh bilangan real yang dapat mengandung bagian desimal\n",
    "- Bilangan kompleks -> Suatu bilang yang terdiri atas bagian real dan imaginer, biasanya ditulisakn sebagai x + yj. Dimana x dan y adalah bilangan bertipe float, sedangkan j adalah akar $\\sqrt{-1}$\n",
    "\n",
    "#### Boolean\n",
    "Jenis data yang hanya mengenal dua nilai yaitu True atau False ('T' atau 'F', 1 atau 0) \n",
    "\n",
    "#### Data sekuensial (Sequence Type)\n",
    "Gabungan dari beberapa data yang bertype sama ataupun berbeda\n",
    "- String -> Kumpulan satu atau lebih karakter huruf atau gabungan huruf dan angka\n",
    "- List -> Gabungan beberapa data yang membentuk suatu urutan. Data tidak harus memiliki tipe yang sama (angka atau huruf), dan diletakkan dalam kurung kotak ('[]' atau square bracket)\n",
    "- Tupple -> Gabungan beberapa data yang membentuk suatu urutan. Data tidak harus memiliki tipe yang sama (angka atau huruf), dan diletakkan dalam tanda kurung ('()' atau parentheses)\n",
    "\n",
    "#### Dictionary\n",
    "Kumpulan data tidak berurutan yang membentuk format key:value. Kumpulan beberapa pasangan data tersebut ditutup dengan kurung kurawal ('{}'). Contoh {1:\"Bakso\", 2:\"Sate\", 3:\"Bakmi\", 4:\"Siomay\"}\n",
    "\n",
    "untuk mengecek type dari suatu data dapat digunakan fungsi $\\textit{type()}$"
   ]
  },
  {
   "cell_type": "code",
   "execution_count": 2,
   "metadata": {},
   "outputs": [
    {
     "name": "stdout",
     "output_type": "stream",
     "text": [
      "True\n"
     ]
    }
   ],
   "source": [
    "type(1234)   # Interger\n",
    "type(55.00)  # Floar\n",
    "type(2+1j)   #Complex\n",
    "type('hello') #String\n",
    "type([1,2,3,4]) #List\n",
    "type((1,2,3,4)) #Tupple\n",
    "type({1:'one', 2:'two', 3:'three', 4:'four'}) #Dictionary\n",
    "x=5\n",
    "print(x==5)  #Boolean"
   ]
  },
  {
   "cell_type": "markdown",
   "metadata": {},
   "source": [
    "### c. Operasi bilangan (Int, Float, Complex)"
   ]
  },
  {
   "cell_type": "code",
   "execution_count": 3,
   "metadata": {},
   "outputs": [
    {
     "name": "stdout",
     "output_type": "stream",
     "text": [
      "100\n"
     ]
    }
   ],
   "source": [
    "X = 10\n",
    "Y = X**2\n",
    "print(Y)"
   ]
  },
  {
   "cell_type": "code",
   "execution_count": 4,
   "metadata": {},
   "outputs": [
    {
     "name": "stdout",
     "output_type": "stream",
     "text": [
      "1.984\n"
     ]
    }
   ],
   "source": [
    "X = 9.92\n",
    "Y = X/5\n",
    "print(Y)"
   ]
  },
  {
   "cell_type": "code",
   "execution_count": 5,
   "metadata": {},
   "outputs": [
    {
     "name": "stdout",
     "output_type": "stream",
     "text": [
      "(0.5205479452054794-0.0547945205479452j)\n",
      "(-6.5+7j)\n"
     ]
    }
   ],
   "source": [
    "X = 1+2j\n",
    "Y = 1.5 + 4j\n",
    "print(X/Y)\n",
    "print(X*Y)"
   ]
  },
  {
   "cell_type": "markdown",
   "metadata": {},
   "source": [
    "### d. Operasi String"
   ]
  },
  {
   "cell_type": "code",
   "execution_count": 6,
   "metadata": {},
   "outputs": [
    {
     "name": "stdout",
     "output_type": "stream",
     "text": [
      "hellohellohello\n"
     ]
    },
    {
     "data": {
      "text/plain": [
       "'h'"
      ]
     },
     "execution_count": 6,
     "metadata": {},
     "output_type": "execute_result"
    }
   ],
   "source": [
    "mystring = 'hello'\n",
    "print(mystring*3)\n",
    "\n",
    "mystring[0]"
   ]
  },
  {
   "cell_type": "code",
   "execution_count": 7,
   "metadata": {},
   "outputs": [
    {
     "data": {
      "text/plain": [
       "'o'"
      ]
     },
     "execution_count": 7,
     "metadata": {},
     "output_type": "execute_result"
    }
   ],
   "source": [
    "mystring[4]"
   ]
  },
  {
   "cell_type": "code",
   "execution_count": 8,
   "metadata": {},
   "outputs": [
    {
     "name": "stdout",
     "output_type": "stream",
     "text": [
      "ell\n",
      "ello\n"
     ]
    }
   ],
   "source": [
    "print(mystring[1:4])\n",
    "print(mystring[1:])"
   ]
  },
  {
   "cell_type": "code",
   "execution_count": 9,
   "metadata": {},
   "outputs": [
    {
     "name": "stdout",
     "output_type": "stream",
     "text": [
      "helloworld\n",
      "hello world\n"
     ]
    }
   ],
   "source": [
    "string = 'world'\n",
    "text = mystring + string\n",
    "print(text)\n",
    "\n",
    "text = mystring + \" \" + string\n",
    "print(text)"
   ]
  },
  {
   "cell_type": "code",
   "execution_count": 10,
   "metadata": {},
   "outputs": [
    {
     "name": "stdout",
     "output_type": "stream",
     "text": [
      "True\n",
      "False\n",
      "True\n"
     ]
    }
   ],
   "source": [
    "print('world' in text)\n",
    "print('string' in mystring)\n",
    "print('string' not in mystring)"
   ]
  },
  {
   "cell_type": "code",
   "execution_count": 11,
   "metadata": {},
   "outputs": [
    {
     "name": "stdout",
     "output_type": "stream",
     "text": [
      "(6.2+2j)\n",
      "<class 'complex'>\n",
      "<class 'str'>\n"
     ]
    }
   ],
   "source": [
    "X = 6.2 + 2j   #Complex\n",
    "Xstr = str(X)  #dikonvert ke string\n",
    "print(Xstr)\n",
    "print(type(X))\n",
    "print(type(Xstr))"
   ]
  },
  {
   "cell_type": "code",
   "execution_count": 12,
   "metadata": {},
   "outputs": [
    {
     "data": {
      "text/plain": [
       "'My name is Haris. I am 25 years old.'"
      ]
     },
     "execution_count": 12,
     "metadata": {},
     "output_type": "execute_result"
    }
   ],
   "source": [
    "name = 'Haris'\n",
    "age = 25\n",
    "\"My name is %s. I am %d years old.\" % (name, age)"
   ]
  },
  {
   "cell_type": "code",
   "execution_count": 13,
   "metadata": {},
   "outputs": [
    {
     "data": {
      "text/plain": [
       "'My name is Haris and I am 25 years old.'"
      ]
     },
     "execution_count": 13,
     "metadata": {},
     "output_type": "execute_result"
    }
   ],
   "source": [
    "\"My name is {} and I am {} years old.\" .format(name, age)"
   ]
  },
  {
   "cell_type": "code",
   "execution_count": 14,
   "metadata": {},
   "outputs": [
    {
     "name": "stdout",
     "output_type": "stream",
     "text": [
      "22\n"
     ]
    },
    {
     "data": {
      "text/plain": [
       "2"
      ]
     },
     "execution_count": 14,
     "metadata": {},
     "output_type": "execute_result"
    }
   ],
   "source": [
    "mystr = \"tutorial pemprograman python dari kegiatan tutorial HMPF\"\n",
    "print(mystr.find('python'))\n",
    "mystr.count('tutorial')      # Menghitung jumlah kata 'tutorial' dalam kalimat"
   ]
  },
  {
   "cell_type": "code",
   "execution_count": 15,
   "metadata": {},
   "outputs": [
    {
     "data": {
      "text/plain": [
       "False"
      ]
     },
     "execution_count": 15,
     "metadata": {},
     "output_type": "execute_result"
    }
   ],
   "source": [
    "str1 = '2000'\n",
    "str1.isdigit()\n",
    "\n",
    "str2 = '2,000'\n",
    "str2.isdigit()"
   ]
  },
  {
   "cell_type": "markdown",
   "metadata": {},
   "source": [
    "Fungsi built-in lainnya yang terdapat dalam operasi string diantaranya:\n",
    "- capitalized()\n",
    "- upper()\n",
    "- lower()\n",
    "- islower()\n",
    "- isupper()\n",
    "- isalpha()\n",
    "- dll"
   ]
  },
  {
   "cell_type": "markdown",
   "metadata": {},
   "source": [
    "### e. Operasi List\n",
    "\n",
    "Sebuah list dituliskan didalam sebuah square bracket\n",
    "\n",
    "list = [nilai1, nilai2, nilai3, ..., nilai_n]"
   ]
  },
  {
   "cell_type": "code",
   "execution_count": 16,
   "metadata": {},
   "outputs": [],
   "source": [
    "languages = ['Pascal', 'Fortran', 'C#', 'Python', 'Java']\n",
    "Suhu = [40, 42, 41, 45, 43]"
   ]
  },
  {
   "cell_type": "code",
   "execution_count": 17,
   "metadata": {},
   "outputs": [
    {
     "name": "stdout",
     "output_type": "stream",
     "text": [
      "<class 'list'>\n",
      "<class 'list'>\n"
     ]
    }
   ],
   "source": [
    "print(type(Suhu))\n",
    "print(type(languages))"
   ]
  },
  {
   "cell_type": "code",
   "execution_count": 18,
   "metadata": {},
   "outputs": [
    {
     "data": {
      "text/plain": [
       "'Pascal'"
      ]
     },
     "execution_count": 18,
     "metadata": {},
     "output_type": "execute_result"
    }
   ],
   "source": [
    "languages[0]\n",
    "#Suhu[1]"
   ]
  },
  {
   "cell_type": "code",
   "execution_count": 19,
   "metadata": {},
   "outputs": [
    {
     "data": {
      "text/plain": [
       "[1, 2, 3, 4, 5, 6]"
      ]
     },
     "execution_count": 19,
     "metadata": {},
     "output_type": "execute_result"
    }
   ],
   "source": [
    "L1=[1,2,3]   \n",
    "L2=[4,5,6] \n",
    "L = L1+L2  #Penjumlahan dua buah list\n",
    "L"
   ]
  },
  {
   "cell_type": "code",
   "execution_count": 20,
   "metadata": {},
   "outputs": [
    {
     "data": {
      "text/plain": [
       "[2, 3]"
      ]
     },
     "execution_count": 20,
     "metadata": {},
     "output_type": "execute_result"
    }
   ],
   "source": [
    "L[1:3]\n",
    "#L[3:]"
   ]
  },
  {
   "cell_type": "code",
   "execution_count": 21,
   "metadata": {},
   "outputs": [
    {
     "data": {
      "text/plain": [
       "True"
      ]
     },
     "execution_count": 21,
     "metadata": {},
     "output_type": "execute_result"
    }
   ],
   "source": [
    "4 in L"
   ]
  },
  {
   "cell_type": "code",
   "execution_count": 22,
   "metadata": {},
   "outputs": [
    {
     "data": {
      "text/plain": [
       "False"
      ]
     },
     "execution_count": 22,
     "metadata": {},
     "output_type": "execute_result"
    }
   ],
   "source": [
    "10 in L"
   ]
  },
  {
   "cell_type": "code",
   "execution_count": 23,
   "metadata": {},
   "outputs": [
    {
     "data": {
      "text/plain": [
       "True"
      ]
     },
     "execution_count": 23,
     "metadata": {},
     "output_type": "execute_result"
    }
   ],
   "source": [
    "10 not in L"
   ]
  },
  {
   "cell_type": "markdown",
   "metadata": {},
   "source": [
    "Fungsi - fungsi built-in lainnya yang terdapat pada operator List diantaranya:\n",
    "\n",
    "- len()\n",
    "- max()\n",
    "- min()\n",
    "- append()\n",
    "- insert()\n",
    "- remove()\n",
    "- pop()\n",
    "- reverse()\n",
    "- sort()\n",
    "- list()\n",
    "- tuple()"
   ]
  },
  {
   "cell_type": "code",
   "execution_count": 24,
   "metadata": {},
   "outputs": [
    {
     "data": {
      "text/plain": [
       "6"
      ]
     },
     "execution_count": 24,
     "metadata": {},
     "output_type": "execute_result"
    }
   ],
   "source": [
    "len(L)"
   ]
  },
  {
   "cell_type": "markdown",
   "metadata": {},
   "source": [
    "### f. Tuple\n",
    "\n",
    "Tuple memiliki banyak kemiripan dengan list dan biasanya dituliskan sama seperti pada list hany saja perbedaannya terdapat pada tanda kurung yang mengumpulkan objek\n",
    "\n",
    "tuple = (nilai_1, nilai_2, nilai_3, ..., nilai_n)"
   ]
  },
  {
   "cell_type": "markdown",
   "metadata": {},
   "source": [
    "### g. Dictionary\n",
    "\n",
    "Biasanya ditulis dalam bentuk berikut\n",
    "\n",
    "dict = { key1:value1, key2:value2,...keyN:valueN } "
   ]
  },
  {
   "cell_type": "code",
   "execution_count": 25,
   "metadata": {},
   "outputs": [
    {
     "data": {
      "text/plain": [
       "'Washington, D.C.'"
      ]
     },
     "execution_count": 25,
     "metadata": {},
     "output_type": "execute_result"
    }
   ],
   "source": [
    "capitals={\"USA\":\"Washington, D.C.\", \"France\":\"Paris\", \"India\":\"New Delhi\"}\n",
    "capitals['USA']\n",
    "capitals.get('USA')"
   ]
  },
  {
   "cell_type": "code",
   "execution_count": 26,
   "metadata": {},
   "outputs": [
    {
     "name": "stdout",
     "output_type": "stream",
     "text": [
      "Key = USA, Value = Washington, D.C.\n",
      "Key = France, Value = Paris\n",
      "Key = India, Value = New Delhi\n"
     ]
    }
   ],
   "source": [
    "for key in capitals:\n",
    "    print(\"Key = \" + key + \", Value = \" + capitals[key])"
   ]
  },
  {
   "cell_type": "code",
   "execution_count": 27,
   "metadata": {},
   "outputs": [
    {
     "data": {
      "text/plain": [
       "dict_keys(['USA', 'France', 'India'])"
      ]
     },
     "execution_count": 27,
     "metadata": {},
     "output_type": "execute_result"
    }
   ],
   "source": [
    "capitals.keys()"
   ]
  },
  {
   "cell_type": "code",
   "execution_count": 28,
   "metadata": {},
   "outputs": [
    {
     "data": {
      "text/plain": [
       "dict_values(['Washington, D.C.', 'Paris', 'New Delhi'])"
      ]
     },
     "execution_count": 28,
     "metadata": {},
     "output_type": "execute_result"
    }
   ],
   "source": [
    "capitals.values()"
   ]
  },
  {
   "cell_type": "markdown",
   "metadata": {},
   "source": [
    "## 2. Decision Control"
   ]
  },
  {
   "cell_type": "code",
   "execution_count": 29,
   "metadata": {},
   "outputs": [
    {
     "name": "stdout",
     "output_type": "stream",
     "text": [
      "Masukkan Harga: 300\n",
      "Masukkan Jumlah: 5\n",
      "Potongan harga sebesar 10%\n",
      "Total pembayaran:  1350.0\n"
     ]
    }
   ],
   "source": [
    "price=int(input(\"Masukkan Harga: \"))\n",
    "qty=int(input(\"Masukkan Jumlah: \"))\n",
    "amt=price*qty\n",
    "if amt>1000:\n",
    "    print(\"Potongan harga sebesar 10%\")\n",
    "    discount=amt*10/100\n",
    "    amt=amt-discount\n",
    "print (\"Total pembayaran: \",amt)"
   ]
  },
  {
   "cell_type": "code",
   "execution_count": 30,
   "metadata": {},
   "outputs": [
    {
     "name": "stdout",
     "output_type": "stream",
     "text": [
      "Masukkan Harga: 70\n",
      "Masukkan Jumlah: 8\n",
      "Tambah pembelian sejumlah 441  untuk mendapatkan diskon 10%\n",
      "Total Pembayaran:  560\n"
     ]
    }
   ],
   "source": [
    "price=int(input(\"Masukkan Harga: \"))\n",
    "qty=int(input(\"Masukkan Jumlah: \"))\n",
    "amt=price*qty\n",
    "if amt>1000:\n",
    "    print(\"10% discount is applicable\")\n",
    "    discount=amt*10/100\n",
    "    amt=amt-discount\n",
    "else:\n",
    "    add = 1001 - amt\n",
    "    print(\"Tambah pembelian sejumlah\", add, \" untuk mendapatkan diskon 10%\")\n",
    "print (\"Total Pembayaran: \",amt)"
   ]
  },
  {
   "cell_type": "markdown",
   "metadata": {},
   "source": [
    "## 3. Looping\n",
    "\n",
    "### While Loop"
   ]
  },
  {
   "cell_type": "code",
   "execution_count": 31,
   "metadata": {},
   "outputs": [
    {
     "name": "stdout",
     "output_type": "stream",
     "text": [
      "num = 1\n",
      "num = 2\n",
      "num = 3\n",
      "num = 4\n",
      "num = 5\n"
     ]
    }
   ],
   "source": [
    "num =0\n",
    "while num< 5:\n",
    "    num = num + 1\n",
    "    print(\"num =\", num)"
   ]
  },
  {
   "cell_type": "code",
   "execution_count": 32,
   "metadata": {},
   "outputs": [
    {
     "name": "stdout",
     "output_type": "stream",
     "text": [
      "enter any number .. -1 to exit \n",
      "3\n",
      "enter any number .. -1 to exit \n",
      "4\n",
      "enter any number .. -1 to exit \n",
      "-1\n",
      "numbers input: 2 average: 3.5\n"
     ]
    }
   ],
   "source": [
    "num=0\n",
    "count=0\n",
    "sum=0\n",
    "while num>=0:\n",
    "    num=int(input(\"enter any number .. -1 to exit \\n\"))\n",
    "    if num>=0:\n",
    "        count=count+1 #this counts number of inputs \n",
    "        sum=sum+num # this adds input number cumulatively. \n",
    "avg=sum/count\n",
    "print (\"numbers input:\",count, \"average:\",avg)"
   ]
  },
  {
   "cell_type": "markdown",
   "metadata": {},
   "source": [
    "### For Loop"
   ]
  },
  {
   "cell_type": "code",
   "execution_count": 33,
   "metadata": {},
   "outputs": [
    {
     "name": "stdout",
     "output_type": "stream",
     "text": [
      "10\n",
      "20\n",
      "30\n",
      "40\n",
      "50\n"
     ]
    }
   ],
   "source": [
    "mylist=[10, 20, 30, 40, 50]\n",
    "for i in mylist:\n",
    "    print(i)"
   ]
  },
  {
   "cell_type": "code",
   "execution_count": 35,
   "metadata": {},
   "outputs": [
    {
     "name": "stdout",
     "output_type": "stream",
     "text": [
      "10,20,30,40,\n",
      "Average: 25.0\n"
     ]
    }
   ],
   "source": [
    "sum=0\n",
    "numbers =[10,20,30,40]\n",
    "for num in numbers:\n",
    "    print(num, end=',')\n",
    "    sum=sum+num\n",
    "avg=sum/len(numbers)\n",
    "print ('\\nAverage:', avg)"
   ]
  },
  {
   "cell_type": "code",
   "execution_count": 37,
   "metadata": {},
   "outputs": [
    {
     "name": "stdout",
     "output_type": "stream",
     "text": [
      "1\n",
      "2\n",
      "3\n",
      "4\n"
     ]
    }
   ],
   "source": [
    "for i in range(1,5):\n",
    "    print(i)"
   ]
  },
  {
   "cell_type": "code",
   "execution_count": 39,
   "metadata": {},
   "outputs": [
    {
     "name": "stdout",
     "output_type": "stream",
     "text": [
      "1\n",
      "2\n",
      "1\n",
      "2\n",
      "1\n",
      "2\n"
     ]
    }
   ],
   "source": [
    "for i in range(1,4):\n",
    "    for j in range(1,3):\n",
    "        print(j)"
   ]
  },
  {
   "cell_type": "markdown",
   "metadata": {},
   "source": [
    "## 4. Menuliskan Fungsi"
   ]
  },
  {
   "cell_type": "code",
   "execution_count": 41,
   "metadata": {},
   "outputs": [],
   "source": [
    "def SayHello():\n",
    "    return \"Hello! Selamat belajar pemrograman python\""
   ]
  },
  {
   "cell_type": "code",
   "execution_count": 42,
   "metadata": {},
   "outputs": [
    {
     "data": {
      "text/plain": [
       "'Hello! Selamat belajar pemrograman python'"
      ]
     },
     "execution_count": 42,
     "metadata": {},
     "output_type": "execute_result"
    }
   ],
   "source": [
    "SayHello()"
   ]
  },
  {
   "cell_type": "code",
   "execution_count": 46,
   "metadata": {},
   "outputs": [],
   "source": [
    "def SayHello(nama):\n",
    "    print('Hello {}!' .format(nama))\n",
    "    return"
   ]
  },
  {
   "cell_type": "code",
   "execution_count": 49,
   "metadata": {},
   "outputs": [
    {
     "name": "stdout",
     "output_type": "stream",
     "text": [
      "Hello Haris!\n"
     ]
    }
   ],
   "source": [
    "SayHello(\"Haris\")"
   ]
  },
  {
   "cell_type": "code",
   "execution_count": 50,
   "metadata": {},
   "outputs": [
    {
     "data": {
      "text/plain": [
       "7"
      ]
     },
     "execution_count": 50,
     "metadata": {},
     "output_type": "execute_result"
    }
   ],
   "source": [
    "def sum(a,b):\n",
    "    return a + b\n",
    "\n",
    "sum(2,5)"
   ]
  },
  {
   "cell_type": "code",
   "execution_count": 48,
   "metadata": {},
   "outputs": [
    {
     "name": "stdout",
     "output_type": "stream",
     "text": [
      "Enter your marks in physics: 60\n",
      "Enter your marks in chemistry: 50\n",
      "Enter your marks in maths: 40\n",
      "Result: Pass\n"
     ]
    }
   ],
   "source": [
    "def result(m1,m2,m3):\n",
    "        ttl=m1+m2+m3\n",
    "        percent=ttl/3\n",
    "        if percent>=50:\n",
    "            print (\"Result: Pass\")\n",
    "        else:\n",
    "            print (\"Result: Fail\")\n",
    "        return\n",
    "\n",
    "p=int(input(\"Enter your marks in physics: \"))\n",
    "c=int(input(\"Enter your marks in chemistry: \"))\n",
    "m=int(input(\"Enter your marks in maths: \"))\n",
    "result(p,c,m)"
   ]
  },
  {
   "cell_type": "code",
   "execution_count": 52,
   "metadata": {},
   "outputs": [
    {
     "data": {
      "text/plain": [
       "25"
      ]
     },
     "execution_count": 52,
     "metadata": {},
     "output_type": "execute_result"
    }
   ],
   "source": [
    "square = lambda x : x * x \n",
    "square(5)"
   ]
  },
  {
   "cell_type": "code",
   "execution_count": 53,
   "metadata": {},
   "outputs": [
    {
     "data": {
      "text/plain": [
       "30"
      ]
     },
     "execution_count": 53,
     "metadata": {},
     "output_type": "execute_result"
    }
   ],
   "source": [
    "sum = lambda x, y, z : x + y + z \n",
    "sum(5, 10, 15)"
   ]
  },
  {
   "cell_type": "code",
   "execution_count": null,
   "metadata": {},
   "outputs": [],
   "source": []
  }
 ],
 "metadata": {
  "kernelspec": {
   "display_name": "Python 3",
   "language": "python",
   "name": "python3"
  },
  "language_info": {
   "codemirror_mode": {
    "name": "ipython",
    "version": 3
   },
   "file_extension": ".py",
   "mimetype": "text/x-python",
   "name": "python",
   "nbconvert_exporter": "python",
   "pygments_lexer": "ipython3",
   "version": "3.7.3"
  }
 },
 "nbformat": 4,
 "nbformat_minor": 2
}
