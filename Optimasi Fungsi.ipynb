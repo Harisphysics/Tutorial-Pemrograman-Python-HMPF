{
 "cells": [
  {
   "cell_type": "markdown",
   "metadata": {},
   "source": [
    "### Optimasi Fungsi\n",
    "\n",
    "1. Newton Raphson\n",
    "\n",
    "Carilah nilai akar dari fungsi berikut\n",
    "\n",
    "\\begin{equation}\n",
    "\\ f(x) = x^2 - 4x + 4\n",
    "\\end{equation}"
   ]
  },
  {
   "cell_type": "code",
   "execution_count": 74,
   "metadata": {},
   "outputs": [
    {
     "data": {
      "text/plain": [
       "3.0"
      ]
     },
     "execution_count": 74,
     "metadata": {},
     "output_type": "execute_result"
    }
   ],
   "source": [
    "def fung(x):\n",
    "    return x**2 - 6*x +9\n",
    "\n",
    "def dfung(x,h):\n",
    "    return 2*x -4\n",
    "\n",
    "def NewthonRaph(x0, h):\n",
    "    for i in range(1000):\n",
    "        x_next = x0 - fung(x0)/dfung(x0,h)\n",
    "        if(abs(x_next - x0) < 0.01):\n",
    "            break\n",
    "        x0 = x_next\n",
    "    return x0\n",
    "\n",
    "NewthonRaph(1,0.01)"
   ]
  },
  {
   "cell_type": "code",
   "execution_count": 75,
   "metadata": {},
   "outputs": [
    {
     "data": {
      "text/plain": [
       "3.000086096810316"
      ]
     },
     "execution_count": 75,
     "metadata": {},
     "output_type": "execute_result"
    }
   ],
   "source": [
    "def fung(x):\n",
    "    return x**2 - 6*x +9\n",
    "\n",
    "def dfung(x,h):\n",
    "    df = (fung(x+h) - fung(x))/h\n",
    "    return df\n",
    "\n",
    "def NewthonRaph(x0, h):\n",
    "    for i in range(1000):\n",
    "        x_next = x0 - fung(x0)/dfung(x0,h)\n",
    "        if(abs(x_next - x0) < 0.01):\n",
    "            break\n",
    "        x0 = x_next\n",
    "    return x0\n",
    "\n",
    "NewthonRaph(1,0.01)"
   ]
  },
  {
   "cell_type": "markdown",
   "metadata": {},
   "source": [
    "## 2. Optimasi fungsi linear"
   ]
  },
  {
   "cell_type": "code",
   "execution_count": 76,
   "metadata": {},
   "outputs": [],
   "source": [
    "X = 2 * np.random.rand(100,1)\n",
    "y = 4 +3 * X+np.random.randn(100,1)"
   ]
  },
  {
   "cell_type": "code",
   "execution_count": 77,
   "metadata": {},
   "outputs": [
    {
     "data": {
      "image/png": "[encoded data removed]",
      "text/plain": [
       "<Figure size 432x288 with 1 Axes>"
      ]
     },
     "metadata": {
      "needs_background": "light"
     },
     "output_type": "display_data"
    }
   ],
   "source": [
    "plt.plot(X,y,'b.')\n",
    "plt.show()"
   ]
  },
  {
   "cell_type": "markdown",
   "metadata": {},
   "source": [
    "##### Secara Analitik"
   ]
  },
  {
   "cell_type": "code",
   "execution_count": 93,
   "metadata": {},
   "outputs": [
    {
     "data": {
      "text/plain": [
       "array([[1.        , 0.88532276],\n",
       "       [1.        , 0.44911147],\n",
       "       [1.        , 0.83130991],\n",
       "       [1.        , 0.14163167],\n",
       "       [1.        , 0.11465662],\n",
       "       [1.        , 0.01654539],\n",
       "       [1.        , 1.05399782],\n",
       "       [1.        , 1.64279929],\n",
       "       [1.        , 1.08787749],\n",
       "       [1.        , 1.47185371],\n",
       "       [1.        , 0.82244215],\n",
       "       [1.        , 0.97719348],\n",
       "       [1.        , 0.36647392],\n",
       "       [1.        , 1.55129053],\n",
       "       [1.        , 1.44989905],\n",
       "       [1.        , 0.76276209],\n",
       "       [1.        , 1.1730501 ],\n",
       "       [1.        , 0.66174328],\n",
       "       [1.        , 1.23880256],\n",
       "       [1.        , 0.35419586],\n",
       "       [1.        , 1.86753859],\n",
       "       [1.        , 0.4661853 ],\n",
       "       [1.        , 1.51161626],\n",
       "       [1.        , 1.08931065],\n",
       "       [1.        , 0.21321952],\n",
       "       [1.        , 0.03498536],\n",
       "       [1.        , 1.64316092],\n",
       "       [1.        , 0.34480748],\n",
       "       [1.        , 1.45481105],\n",
       "       [1.        , 0.14348175],\n",
       "       [1.        , 0.47018526],\n",
       "       [1.        , 0.03803753],\n",
       "       [1.        , 0.83839461],\n",
       "       [1.        , 1.68756621],\n",
       "       [1.        , 0.55803888],\n",
       "       [1.        , 1.72251926],\n",
       "       [1.        , 1.83940998],\n",
       "       [1.        , 0.88905809],\n",
       "       [1.        , 1.04079689],\n",
       "       [1.        , 1.06001292],\n",
       "       [1.        , 0.74579664],\n",
       "       [1.        , 0.69997207],\n",
       "       [1.        , 1.0601564 ],\n",
       "       [1.        , 0.97708379],\n",
       "       [1.        , 1.84394151],\n",
       "       [1.        , 0.41866662],\n",
       "       [1.        , 0.31542512],\n",
       "       [1.        , 1.68380335],\n",
       "       [1.        , 0.40727343],\n",
       "       [1.        , 0.56563429],\n",
       "       [1.        , 1.76684932],\n",
       "       [1.        , 0.03073953],\n",
       "       [1.        , 0.62348652],\n",
       "       [1.        , 1.01634723],\n",
       "       [1.        , 1.05560719],\n",
       "       [1.        , 1.04694657],\n",
       "       [1.        , 1.33364341],\n",
       "       [1.        , 1.88965059],\n",
       "       [1.        , 0.32527259],\n",
       "       [1.        , 0.00268558],\n",
       "       [1.        , 0.549194  ],\n",
       "       [1.        , 1.77270203],\n",
       "       [1.        , 0.18183824],\n",
       "       [1.        , 0.1542124 ],\n",
       "       [1.        , 1.89694167],\n",
       "       [1.        , 1.33540817],\n",
       "       [1.        , 1.95318666],\n",
       "       [1.        , 0.87201658],\n",
       "       [1.        , 1.1365855 ],\n",
       "       [1.        , 1.40335339],\n",
       "       [1.        , 1.45786865],\n",
       "       [1.        , 0.98844078],\n",
       "       [1.        , 1.06248378],\n",
       "       [1.        , 1.45390129],\n",
       "       [1.        , 0.15304171],\n",
       "       [1.        , 1.36713466],\n",
       "       [1.        , 0.51497237],\n",
       "       [1.        , 0.19902837],\n",
       "       [1.        , 0.81707579],\n",
       "       [1.        , 0.02569155],\n",
       "       [1.        , 1.56875002],\n",
       "       [1.        , 1.61710793],\n",
       "       [1.        , 1.63350334],\n",
       "       [1.        , 1.88530257],\n",
       "       [1.        , 1.85549129],\n",
       "       [1.        , 1.88336137],\n",
       "       [1.        , 0.37384488],\n",
       "       [1.        , 0.41883891],\n",
       "       [1.        , 0.05151757],\n",
       "       [1.        , 0.60463987],\n",
       "       [1.        , 0.92776005],\n",
       "       [1.        , 1.57257794],\n",
       "       [1.        , 0.17954466],\n",
       "       [1.        , 0.98444304],\n",
       "       [1.        , 1.63680291],\n",
       "       [1.        , 1.31188886],\n",
       "       [1.        , 0.48335997],\n",
       "       [1.        , 0.45190062],\n",
       "       [1.        , 0.61963286],\n",
       "       [1.        , 0.22586518]])"
      ]
     },
     "execution_count": 93,
     "metadata": {},
     "output_type": "execute_result"
    }
   ],
   "source": [
    "X_b = np.c_[np.ones((100,1)),X]\n",
    "theta_best = np.linalg.inv(X_b.T.dot(X_b)).dot(X_b.T).dot(y)"
   ]
  },
  {
   "cell_type": "code",
   "execution_count": 79,
   "metadata": {},
   "outputs": [
    {
     "data": {
      "image/png": "[encoded data removed]",
      "text/plain": [
       "<Figure size 432x288 with 1 Axes>"
      ]
     },
     "metadata": {
      "needs_background": "light"
     },
     "output_type": "display_data"
    }
   ],
   "source": [
    "plt.plot(X, y, 'o')\n",
    "plt.plot(X, (theta_best[0] + theta_best[1]*X))\n",
    "plt.xlabel(\"$x_1$\", fontsize=18)\n",
    "plt.ylabel(\"$y$\", rotation=0, fontsize=18)\n",
    "plt.axis([0,2,0,15])\n",
    "plt.show()"
   ]
  },
  {
   "cell_type": "code",
   "execution_count": 91,
   "metadata": {},
   "outputs": [],
   "source": [
    "def  cal_cost(theta,X,y):\n",
    "    predictions = X.dot(theta)\n",
    "    cost = (1/2*m) * np.sum(np.square(predictions-y))\n",
    "    return cost"
   ]
  },
  {
   "cell_type": "code",
   "execution_count": 81,
   "metadata": {},
   "outputs": [],
   "source": [
    "def gradient_descent(X,y,theta,learning_rate=0.01,iterations=100):\n",
    "    m = len(y)\n",
    "    cost_history = np.zeros(iterations)\n",
    "    theta_history = np.zeros((iterations,2))\n",
    "    for it in range(iterations):\n",
    "        \n",
    "        prediction = np.dot(X,theta)\n",
    "        \n",
    "        theta = theta -(1/m)*learning_rate*( X.T.dot((prediction - y)))\n",
    "        theta_history[it,:] =theta.T\n",
    "        cost_history[it]  = cal_cost(theta,X,y)\n",
    "        \n",
    "    return theta, cost_history, theta_history"
   ]
  },
  {
   "cell_type": "code",
   "execution_count": 92,
   "metadata": {},
   "outputs": [
    {
     "name": "stdout",
     "output_type": "stream",
     "text": [
      "Theta0:          3.949,\n",
      "Theta1:          3.135\n",
      "Final cost/MSE:  74.228\n"
     ]
    }
   ],
   "source": [
    "lr =0.01\n",
    "n_iter = 1000\n",
    "\n",
    "theta = np.random.randn(2,1)\n",
    "\n",
    "X_b = np.c_[np.ones((len(X),1)),X]\n",
    "theta,cost_history,theta_history = gradient_descent(X_b,y,theta,lr,n_iter)\n",
    "\n",
    "\n",
    "print('Theta0:          {:0.3f},\\nTheta1:          {:0.3f}'.format(theta[0][0],theta[1][0]))\n",
    "print('Final cost/MSE:  {:0.3f}'.format(cost_history[-1]))"
   ]
  },
  {
   "cell_type": "code",
   "execution_count": 83,
   "metadata": {},
   "outputs": [
    {
     "data": {
      "image/png": "[encoded data removed]",
      "text/plain": [
       "<Figure size 864x576 with 1 Axes>"
      ]
     },
     "metadata": {
      "needs_background": "light"
     },
     "output_type": "display_data"
    }
   ],
   "source": [
    "fig,ax = plt.subplots(figsize=(12,8))\n",
    "\n",
    "ax.set_ylabel('J(Theta)')\n",
    "ax.set_xlabel('Iterations')\n",
    "_=ax.plot(range(n_iter),cost_history,'b.')"
   ]
  },
  {
   "cell_type": "code",
   "execution_count": null,
   "metadata": {},
   "outputs": [],
   "source": []
  },
  {
   "cell_type": "code",
   "execution_count": 84,
   "metadata": {},
   "outputs": [
    {
     "data": {
      "image/png": "[encoded data removed]",
      "text/plain": [
       "<Figure size 720x576 with 1 Axes>"
      ]
     },
     "metadata": {
      "needs_background": "light"
     },
     "output_type": "display_data"
    }
   ],
   "source": [
    "\n",
    "fig,ax = plt.subplots(figsize=(10,8))\n",
    "_=ax.plot(range(200),cost_history[:200],'b.')"
   ]
  },
  {
   "cell_type": "code",
   "execution_count": null,
   "metadata": {},
   "outputs": [],
   "source": []
  }
 ],
 "metadata": {
  "kernelspec": {
   "display_name": "Python 3",
   "language": "python",
   "name": "python3"
  },
  "language_info": {
   "codemirror_mode": {
    "name": "ipython",
    "version": 3
   },
   "file_extension": ".py",
   "mimetype": "text/x-python",
   "name": "python",
   "nbconvert_exporter": "python",
   "pygments_lexer": "ipython3",
   "version": "3.7.3"
  }
 },
 "nbformat": 4,
 "nbformat_minor": 2
}
